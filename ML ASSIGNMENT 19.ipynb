{
 "cells": [
  {
   "cell_type": "markdown",
   "id": "dd9e2fe5",
   "metadata": {},
   "source": [
    "1. A set of one-dimensional data points is given to you: 5, 10, 15, 20, 25, 30, 35. Assume that k = 2\n",
    "and that the first set of random centroid is 15, 32, and that the second set is 12, 30.\n",
    "a) Using the k-means method, create two clusters for each set of centroid described above.\n",
    "b) For each set of centroid values, calculate the SSE.\n",
    "\n",
    "2. Describe how the Market Basket Research makes use of association analysis concepts.\n",
    "\n",
    "3. Give an example of the Apriori algorithm for learning association rules.\n",
    "\n",
    "4. In hierarchical clustering, how is the distance between clusters measured? Explain how this metric\n",
    "is used to decide when to end the iteration.\n",
    "\n",
    "5. In the k-means algorithm, how do you recompute the cluster centroids?\n",
    "\n",
    "6. At the start of the clustering exercise, discuss one method for determining the required number of\n",
    "clusters.\n",
    "\n",
    "7. Discuss the k-means algorithm&#39;s advantages and disadvantages.\n",
    "\n",
    "8. Draw a diagram to demonstrate the principle of clustering.\n",
    "\n",
    "9. During your study, you discovered seven findings, which are listed in the data points below. Using\n",
    "the K-means algorithm, you want to build three clusters from these observations. The clusters C1,\n",
    "C2, and C3 have the following findings after the first iteration:\n",
    "\n",
    "C1: (2,2), (4,4), (6,6); C2: (2,2), (4,4), (6,6); C3: (2,2), (4,4),\n",
    "\n",
    "C2: (0,4), (4,0), (0,4), (0,4), (0,4), (0,4), (0,4), (0,4), (0,\n",
    "\n",
    "C3: (5,5) and (9,9)\n",
    "\n",
    "What would the cluster centroids be if you were to run a second iteration? What would this\n",
    "clustering&#39;s SSE be?\n",
    "\n",
    "10. In a software project, the team is attempting to determine if software flaws discovered during\n",
    "testing are identical. Based on the text analytics of the defect details, they decided to build 5 clusters\n",
    "of related defects. Any new defect formed after the 5 clusters of defects have been identified must\n",
    "be listed as one of the forms identified by clustering. A simple diagram can be used to explain this\n",
    "process. Assume you have 20 defect data points that"
   ]
  },
  {
   "cell_type": "markdown",
   "id": "6b23471e",
   "metadata": {},
   "source": [
    "1.1.Using the k-means method, create two clusters for each set of centroid described above.\n",
    "2.For each set of centroid values, calculate the SSE."
   ]
  },
  {
   "cell_type": "markdown",
   "id": "ffc96fb5",
   "metadata": {},
   "source": [
    "2.Market Basket Analysis is one of the key techniques used by large retailers to uncover associations between items. It works by looking for combinations of items that occur together frequently in transactions. To put it another way, it allows retailers to identify relationships between the items that people buy.\n",
    "\n",
    "Association Rules are widely used to analyze retail basket or transaction data, and are intended to identify strong rules discovered in transaction data using measures of interestingness, based on the concept of strong rules."
   ]
  },
  {
   "cell_type": "markdown",
   "id": "5e44dce5",
   "metadata": {},
   "source": [
    "3.Apriori algorithm is given by R. Agrawal and R. Srikant in 1994 for finding frequent itemsets in a dataset for boolean association rule. Name of the algorithm is Apriori because it uses prior knowledge of frequent itemset properties. We apply an iterative approach or level-wise search where k-frequent itemsets are used to find k+1 itemsets.\n",
    "\n",
    "To improve the efficiency of level-wise generation of frequent itemsets, an important property is used called Apriori property which helps by reducing the search space."
   ]
  },
  {
   "cell_type": "markdown",
   "id": "30842d12",
   "metadata": {},
   "source": [
    "4.a. Eucledian distance\n",
    "  b. manhattan distance"
   ]
  },
  {
   "cell_type": "markdown",
   "id": "36efbdf4",
   "metadata": {},
   "source": [
    "7.Advantages of k-means\n",
    "   1.Relatively simple to implement\n",
    "   2.Scales to large data sets\n",
    "   3.Guarantees convergence\n",
    "   4.Can warm-start the positions of centroids\n",
    "   5.Easily adapts to new examples\n",
    "   6.Generalizes to clusters of different shapes and sizes, such as elliptical  clusters.\n",
    "  B. Disadvantages of k-means\n",
    "     1.Choosing k manually\n",
    "     2.Being dependent on initial values\n",
    "     3.Clustering data of varying sizes and density\n",
    "     4.Clustering outliers\n",
    "     5.Scaling with number of dimensions"
   ]
  },
  {
   "cell_type": "code",
   "execution_count": null,
   "id": "136a39b5",
   "metadata": {},
   "outputs": [],
   "source": []
  },
  {
   "cell_type": "code",
   "execution_count": null,
   "id": "04ea9ee9",
   "metadata": {},
   "outputs": [],
   "source": []
  },
  {
   "cell_type": "code",
   "execution_count": null,
   "id": "80f6537e",
   "metadata": {},
   "outputs": [],
   "source": []
  },
  {
   "cell_type": "code",
   "execution_count": null,
   "id": "bc54452d",
   "metadata": {},
   "outputs": [],
   "source": []
  },
  {
   "cell_type": "code",
   "execution_count": null,
   "id": "ddaf4eb0",
   "metadata": {},
   "outputs": [],
   "source": []
  }
 ],
 "metadata": {
  "kernelspec": {
   "display_name": "Python 3 (ipykernel)",
   "language": "python",
   "name": "python3"
  },
  "language_info": {
   "codemirror_mode": {
    "name": "ipython",
    "version": 3
   },
   "file_extension": ".py",
   "mimetype": "text/x-python",
   "name": "python",
   "nbconvert_exporter": "python",
   "pygments_lexer": "ipython3",
   "version": "3.9.12"
  }
 },
 "nbformat": 4,
 "nbformat_minor": 5
}
